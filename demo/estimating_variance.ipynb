{
 "cells": [
  {
   "cell_type": "markdown",
   "source": [
    "# Estimating variance"
   ],
   "metadata": {}
  },
  {
   "cell_type": "code",
   "execution_count": 1,
   "source": [
    "import seaborn as sns\n",
    "import matplotlib.pyplot as plt\n",
    "import numpy as np\n",
    "\n",
    "from dpmmlearn import DPMM\n",
    "from dpmmlearn.probability import InvGamma"
   ],
   "outputs": [],
   "metadata": {}
  },
  {
   "cell_type": "markdown",
   "source": [
    "## Prepare data"
   ],
   "metadata": {}
  },
  {
   "cell_type": "code",
   "execution_count": 2,
   "source": [
    "def gaussian_sample(mu_list, var_list, size, portion, random_seed=0):\n",
    "    np.random.seed(random_seed)\n",
    "    nums = np.random.multinomial(size, portion)\n",
    "    xs = []\n",
    "    for mu, var, num in zip(mu_list, var_list, nums):\n",
    "        x = np.random.normal(loc=mu, scale=np.sqrt(var), size=num)\n",
    "        xs.append(x)\n",
    "    xs = np.concatenate(xs)\n",
    "    return xs\n",
    "\n",
    "\n",
    "def sample_pdf(x, mu_list, var_list, portion):\n",
    "    y = np.zeros_like(x)\n",
    "    for mu, var, num in zip(mu_list, var_list, portion):\n",
    "        y_ = np.exp(-0.5*(x-mu)**2/var)/np.sqrt(2*np.pi*var)\n",
    "        y += num/sum(portion) * y_\n",
    "    return y\n",
    "\n",
    "\n",
    "def result_pdf(x, thetas, n_labels, mu):\n",
    "    y = np.zeros_like(x)\n",
    "    for theta, n_label in zip(thetas, n_labels):\n",
    "        var = theta\n",
    "        y_ = np.exp(-0.5*(x-mu)**2/var)/np.sqrt(2*np.pi*var)\n",
    "        y += n_label/sum(n_labels) * y_\n",
    "    return y"
   ],
   "outputs": [],
   "metadata": {}
  },
  {
   "cell_type": "code",
   "execution_count": 3,
   "source": [
    "size = 800\n",
    "mu_list = [0.0, 0.0]  # means\n",
    "var_list = [0.3**2, 0.05**2]  # variances\n",
    "portion = [0.5, 0.5,]  # proportions"
   ],
   "outputs": [],
   "metadata": {}
  },
  {
   "cell_type": "code",
   "execution_count": 4,
   "source": [
    "X = gaussian_sample(mu_list, var_list, size, portion)\n",
    "sns.histplot(X, bins=20,kde=True)\n",
    "plt.show()"
   ],
   "outputs": [
    {
     "output_type": "display_data",
     "data": {
      "image/png": "[encoded data removed]",
      "text/plain": [
       "<Figure size 432x288 with 1 Axes>"
      ]
     },
     "metadata": {
      "needs_background": "light"
     }
    }
   ],
   "metadata": {}
  },
  {
   "cell_type": "markdown",
   "source": [
    "## Model\n",
    "\n",
    "Use the Inverse Gamma prior for a Gaussian with known mean and unknown variance."
   ],
   "metadata": {}
  },
  {
   "cell_type": "code",
   "execution_count": 5,
   "source": [
    "mu = 0.0\n",
    "alpha = 1.0\n",
    "beta = 100.0\n",
    "prob = InvGamma(alpha, beta, mu)\n",
    "\n",
    "dp_alpha = 0.1 # Dirichlet Process clustering parameter.  Set lower to infer fewer components.\n",
    "model = DPMM(prob, dp_alpha, max_iter=500)\n",
    "\n",
    "model.fit(X)"
   ],
   "outputs": [
    {
     "output_type": "stream",
     "name": "stdout",
     "text": [
      "iter=init -- New label created: 0\n",
      "iter=init -- New label created: 1\n",
      "iter=2 -- New label created: 2\n",
      "iter=4 -- New label created: 3\n",
      "iter=5 -- Label deleted: 2\n",
      "iter=5 -- Label deleted: 2\n",
      "iter=9 -- New label created: 2\n",
      "iter=11 -- Label deleted: 2\n",
      "iter=75 -- New label created: 2\n",
      "iter=76 -- Label deleted: 2\n",
      "iter=83 -- New label created: 2\n",
      "iter=84 -- Label deleted: 2\n",
      "iter=90 -- New label created: 2\n",
      "iter=94 -- New label created: 3\n",
      "iter=99 -- New label created: 4\n",
      "iter=100 -- Label deleted: 3\n",
      "iter=100 -- Label deleted: 3\n",
      "iter=104 -- New label created: 3\n",
      "iter=105 -- Label deleted: 3\n",
      "iter=126 -- New label created: 3\n",
      "iter=127 -- Label deleted: 3\n",
      "iter=132 -- New label created: 3\n",
      "iter=137 -- New label created: 4\n",
      "iter=139 -- Label deleted: 3\n",
      "iter=147 -- Label deleted: 3\n",
      "iter=152 -- New label created: 3\n",
      "iter=152 -- New label created: 4\n",
      "iter=154 -- Label deleted: 4\n",
      "iter=154 -- Label deleted: 3\n",
      "iter=162 -- New label created: 3\n",
      "iter=165 -- Label deleted: 3\n",
      "iter=170 -- New label created: 3\n",
      "iter=171 -- Label deleted: 3\n",
      "iter=177 -- New label created: 3\n",
      "iter=178 -- Label deleted: 3\n",
      "iter=214 -- Label deleted: 2\n",
      "iter=217 -- New label created: 2\n",
      "iter=219 -- New label created: 3\n",
      "iter=224 -- Label deleted: 2\n",
      "iter=224 -- New label created: 3\n",
      "iter=232 -- Label deleted: 3\n",
      "iter=241 -- New label created: 3\n",
      "iter=242 -- Label deleted: 3\n",
      "iter=254 -- New label created: 3\n",
      "iter=277 -- New label created: 4\n",
      "iter=280 -- Label deleted: 4\n",
      "iter=288 -- Label deleted: 3\n",
      "iter=301 -- New label created: 3\n",
      "iter=304 -- Label deleted: 3\n",
      "iter=317 -- New label created: 3\n",
      "iter=318 -- Label deleted: 3\n",
      "iter=319 -- New label created: 3\n",
      "iter=319 -- Label deleted: 2\n",
      "iter=320 -- Label deleted: 2\n",
      "iter=327 -- New label created: 2\n",
      "iter=328 -- New label created: 3\n",
      "iter=329 -- Label deleted: 3\n",
      "iter=329 -- Label deleted: 2\n",
      "iter=334 -- New label created: 2\n",
      "iter=335 -- Label deleted: 2\n",
      "iter=357 -- New label created: 2\n",
      "iter=358 -- Label deleted: 2\n",
      "iter=367 -- New label created: 2\n",
      "iter=381 -- Label deleted: 2\n",
      "iter=388 -- New label created: 2\n",
      "iter=391 -- Label deleted: 2\n",
      "iter=420 -- New label created: 2\n",
      "iter=421 -- Label deleted: 2\n",
      "iter=421 -- New label created: 2\n",
      "iter=423 -- Label deleted: 2\n",
      "iter=423 -- New label created: 2\n",
      "iter=426 -- Label deleted: 2\n",
      "iter=428 -- New label created: 2\n",
      "iter=429 -- Label deleted: 2\n",
      "iter=436 -- New label created: 2\n",
      "iter=438 -- Label deleted: 2\n",
      "iter=451 -- New label created: 2\n",
      "iter=452 -- Label deleted: 2\n",
      "iter=470 -- New label created: 2\n",
      "iter=478 -- Label deleted: 2\n",
      "iter=480 -- New label created: 2\n",
      "iter=483 -- Label deleted: 2\n",
      "iter=495 -- New label created: 2\n",
      "iter=496 -- New label created: 3\n",
      "iter=498 -- Label deleted: 3\n",
      "========== Finished! ==========\n",
      "best_iter=58 -- n_labels: 2\n"
     ]
    },
    {
     "output_type": "execute_result",
     "data": {
      "text/plain": [
       "DPMM(alpha=0.1, prob=InvGamma(alpha=1.0, beta=100.0, mu=0.0))"
      ]
     },
     "metadata": {},
     "execution_count": 5
    }
   ],
   "metadata": {}
  },
  {
   "cell_type": "code",
   "execution_count": 6,
   "source": [
    "print(var_list, portion)\n",
    "print(model.thetas_, [k/sum(model.n_labels_) for k in model.n_labels_])"
   ],
   "outputs": [
    {
     "output_type": "stream",
     "name": "stdout",
     "text": [
      "[0.09, 0.0025000000000000005] [0.5, 0.5]\n",
      "[0.0023113196965478277, 0.08728171371349017] [0.495, 0.505]\n"
     ]
    }
   ],
   "metadata": {}
  },
  {
   "cell_type": "code",
   "execution_count": 7,
   "source": [
    "x = np.arange(-2, 2, 0.01)\n",
    "y_true = sample_pdf(x, mu_list, var_list, portion)\n",
    "y_pred = result_pdf(x, model.thetas_, model.n_labels_, mu)"
   ],
   "outputs": [],
   "metadata": {}
  },
  {
   "cell_type": "code",
   "execution_count": 8,
   "source": [
    "plt.plot(x, y_true, label='true')\n",
    "plt.plot(x, y_pred, label='pred')\n",
    "plt.legend()\n",
    "plt.show()"
   ],
   "outputs": [
    {
     "output_type": "display_data",
     "data": {
      "image/png": "[encoded data removed]",
      "text/plain": [
       "<Figure size 432x288 with 1 Axes>"
      ]
     },
     "metadata": {
      "needs_background": "light"
     }
    }
   ],
   "metadata": {}
  },
  {
   "cell_type": "code",
   "execution_count": null,
   "source": [],
   "outputs": [],
   "metadata": {}
  }
 ],
 "metadata": {
  "orig_nbformat": 4,
  "language_info": {
   "name": "python",
   "version": "3.7.10",
   "mimetype": "text/x-python",
   "codemirror_mode": {
    "name": "ipython",
    "version": 3
   },
   "pygments_lexer": "ipython3",
   "nbconvert_exporter": "python",
   "file_extension": ".py"
  },
  "kernelspec": {
   "name": "python3",
   "display_name": "Python 3.7.10 64-bit ('py37': conda)"
  },
  "interpreter": {
   "hash": "97dc01d744e1b111fabdad93f9bc533634b6efa07af39458504548f2e81f9470"
  }
 },
 "nbformat": 4,
 "nbformat_minor": 2
}